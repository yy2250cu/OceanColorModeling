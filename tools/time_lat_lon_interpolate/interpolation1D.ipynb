{
 "cells": [
  {
   "cell_type": "code",
   "execution_count": 1,
   "metadata": {
    "collapsed": false
   },
   "outputs": [],
   "source": [
    "import numpy as np\n",
    "import xarray as xr\n",
    "import pandas as pd\n",
    "from matplotlib import pyplot as plt\n",
    "%matplotlib inline"
   ]
  },
  {
   "cell_type": "code",
   "execution_count": 2,
   "metadata": {
    "collapsed": false
   },
   "outputs": [
    {
     "name": "stdout",
     "output_type": "stream",
     "text": [
      "[  0.   5.  10.  15.  20.  25.  30.]\n"
     ]
    },
    {
     "data": {
      "text/plain": [
       "[<matplotlib.lines.Line2D at 0x115bcaeb8>]"
      ]
     },
     "execution_count": 2,
     "metadata": {},
     "output_type": "execute_result"
    },
    {
     "data": {
      "image/png": "[encoded data removed]",
      "text/plain": [
       "<matplotlib.figure.Figure at 0x1137a6978>"
      ]
     },
     "metadata": {},
     "output_type": "display_data"
    }
   ],
   "source": [
    "# define test data\n",
    "x = np.arange(0, 31, 5.)\n",
    "print(x)\n",
    "f = np.sin(np.pi* x/ x.max())\n",
    "plt.plot(x, f, '.-')"
   ]
  },
  {
   "cell_type": "code",
   "execution_count": 3,
   "metadata": {
    "collapsed": false
   },
   "outputs": [
    {
     "data": {
      "text/plain": [
       "<xarray.DataArray 'f' (x: 7)>\n",
       "array([  0.00000000e+00,   5.00000000e-01,   8.66025404e-01,\n",
       "         1.00000000e+00,   8.66025404e-01,   5.00000000e-01,\n",
       "         5.66553890e-16])\n",
       "Coordinates:\n",
       "  * x        (x) float64 0.0 5.0 10.0 15.0 20.0 25.0 30.0"
      ]
     },
     "execution_count": 3,
     "metadata": {},
     "output_type": "execute_result"
    }
   ],
   "source": [
    "# put into xarray dataarray\n",
    "# http://xarray.pydata.org/en/stable/data-structures.html\n",
    "da = xr.DataArray(f, dims=['x'], coords={'x': x}, name='f')\n",
    "da"
   ]
  },
  {
   "cell_type": "code",
   "execution_count": 4,
   "metadata": {
    "collapsed": false
   },
   "outputs": [
    {
     "data": {
      "text/plain": [
       "[<matplotlib.lines.Line2D at 0x1163344a8>]"
      ]
     },
     "execution_count": 4,
     "metadata": {},
     "output_type": "execute_result"
    },
    {
     "data": {
      "image/png": "[encoded data removed]",
      "text/plain": [
       "<matplotlib.figure.Figure at 0x104862898>"
      ]
     },
     "metadata": {},
     "output_type": "display_data"
    }
   ],
   "source": [
    "da.plot()"
   ]
  },
  {
   "cell_type": "code",
   "execution_count": 5,
   "metadata": {
    "collapsed": false
   },
   "outputs": [],
   "source": [
    "x_test = 11."
   ]
  },
  {
   "cell_type": "code",
   "execution_count": 6,
   "metadata": {
    "collapsed": false
   },
   "outputs": [
    {
     "name": "stdout",
     "output_type": "stream",
     "text": [
      "Float64Index([0.0, 5.0, 10.0, 15.0, 20.0, 25.0, 30.0], dtype='float64', name='x')\n",
      "<class 'pandas.indexes.numeric.Float64Index'>\n"
     ]
    }
   ],
   "source": [
    "idx = da.indexes['x'] # get the of the dimensional x\n",
    "print(idx)\n",
    "print(type(idx)) # so the underline dataset index is pandas indexes"
   ]
  },
  {
   "cell_type": "code",
   "execution_count": 15,
   "metadata": {
    "collapsed": false
   },
   "outputs": [
    {
     "name": "stdout",
     "output_type": "stream",
     "text": [
      "i_nearest 2\n",
      "x_nearest 10.0\n",
      "delta_x 1.0\n",
      "x_next 15.0\n",
      "w 0.2\n",
      "da.isel(x=i_next).values 1.0\n",
      "da.isel(x=i_nearest).values 0.8660254037844386\n",
      "the interpolation value is: 0.892820323028\n",
      "----------------------\n",
      "da_interp <xarray.DataArray (x: 1)>\n",
      "array([ 0.89282032])\n",
      "Coordinates:\n",
      "    x        float64 11.0\n",
      "for a comparison, the exact value is 0.913545457643\n"
     ]
    }
   ],
   "source": [
    "# check the location of pandas.index \n",
    "# we find the function get_loc\n",
    "i_nearest = idx.get_loc(x_test, method='nearest') \n",
    "print('i_nearest', i_nearest) # we are working on the index now\n",
    "\n",
    "\n",
    "# find the nearest value \n",
    "# recall that x is the dimension variable, return a dataset coordinate object\n",
    "# value returns the value of the coordinates\n",
    "x_nearest = da.x[i_nearest].values \n",
    "print('x_nearest', x_nearest)\n",
    "\n",
    "\n",
    "delta_x = x_test - x_nearest\n",
    "print('delta_x', delta_x)\n",
    "\n",
    "if delta_x > 0:  # the nearest index is on the left\n",
    "    i_next = i_nearest + 1  # increase the location of the index( or coordinate)\n",
    "else:            # the nearest index is on the right\n",
    "    i_next = i_nearest - 1\n",
    "    \n",
    "# find the next coordinate value    \n",
    "x_next = da.x[i_next].values\n",
    "print('x_next', x_next)\n",
    "\n",
    "\n",
    "### Lagrangian Interpolation\n",
    "# prepare for the Lagrangian interpolation\n",
    "w = delta_x / (x_next - x_nearest)  \n",
    "print('w', w)\n",
    "\n",
    "\n",
    "# they are the same\n",
    "#da[x==x_nearest].values  # there is an issue, beacause many item may share the same values in coordinate x\n",
    "#da.isel(x=i_nearest).values\n",
    "\n",
    "# https://xray.readthedocs.io/en/stable/indexing.html\n",
    "print('da.isel(x=i_next).values', da.isel(x=i_next).values)\n",
    "print('da.isel(x=i_nearest).values',da.isel(x=i_nearest).values)\n",
    "\n",
    "\n",
    "# the interpolation value\n",
    "f_interp = (1-w)*da.isel(x=i_nearest).values + w*da.isel(x=i_next).values\n",
    "print('the interpolation value is:', f_interp)\n",
    "\n",
    "# transfer the value into a DataArray\n",
    "da_interp = xr.DataArray([f_interp], dims=['x'], coords={'x': x_test}) # datarray is always taking a list\n",
    "print('----------------------')\n",
    "print('da_interp', da_interp )\n",
    "\n",
    "# validation: (we can further reduce the stepsize at the beginning of the experiment) \n",
    "print('for a comparison, the exact value is', np.sin(np.pi* x_test/ x.max()))"
   ]
  },
  {
   "cell_type": "code",
   "execution_count": 16,
   "metadata": {
    "collapsed": false
   },
   "outputs": [],
   "source": [
    "?da.x"
   ]
  },
  {
   "cell_type": "code",
   "execution_count": 36,
   "metadata": {
    "collapsed": false
   },
   "outputs": [
    {
     "name": "stdout",
     "output_type": "stream",
     "text": [
      "0.892820323028\n"
     ]
    },
    {
     "data": {
      "text/plain": [
       "<xarray.DataArray (x: 1)>\n",
       "array([ 0.89282032])\n",
       "Coordinates:\n",
       "    x        float64 11.0"
      ]
     },
     "execution_count": 36,
     "metadata": {},
     "output_type": "execute_result"
    }
   ],
   "source": [
    "x_test = 11.\n",
    "idx = da.indexes['x']\n",
    "i_nearest = idx.get_loc(x_test, method='nearest') # check the location of the x_test\n",
    "x_nearest = da.x[i_nearest].values\n",
    "delta_x = x_test - x_nearest\n",
    "if delta_x > 0:\n",
    "    i_next = i_nearest + 1\n",
    "else:\n",
    "    i_next = i_nearest - 1\n",
    "\n",
    "x_next = da.x[i_next].values\n",
    "w = delta_x / (x_next - x_nearest)\n",
    "\n",
    "\n",
    "f_interp = (1-w)*da.isel(x=i_nearest).values + w*da.isel(x=i_next).values\n",
    "print(f_interp) # this is just a value, need to make it into a dataarray\n",
    "da_interp = xr.DataArray([f_interp], dims=['x'], coords={'x': x_test})\n",
    "da_interp"
   ]
  },
  {
   "cell_type": "code",
   "execution_count": 38,
   "metadata": {
    "collapsed": false
   },
   "outputs": [
    {
     "data": {
      "text/plain": [
       "0.89282032302755088"
      ]
     },
     "execution_count": 38,
     "metadata": {},
     "output_type": "execute_result"
    }
   ],
   "source": [
    "f_interp"
   ]
  },
  {
   "cell_type": "code",
   "execution_count": 39,
   "metadata": {
    "collapsed": false
   },
   "outputs": [
    {
     "data": {
      "text/plain": [
       "Float64Index([0.0, 5.0, 10.0, 15.0, 20.0, 25.0, 30.0], dtype='float64', name='x')"
      ]
     },
     "execution_count": 39,
     "metadata": {},
     "output_type": "execute_result"
    }
   ],
   "source": [
    "idx"
   ]
  },
  {
   "cell_type": "code",
   "execution_count": 40,
   "metadata": {
    "collapsed": false
   },
   "outputs": [
    {
     "data": {
      "text/plain": [
       "pandas.indexes.numeric.Float64Index"
      ]
     },
     "execution_count": 40,
     "metadata": {},
     "output_type": "execute_result"
    }
   ],
   "source": [
    "type(idx)"
   ]
  },
  {
   "cell_type": "code",
   "execution_count": 41,
   "metadata": {
    "collapsed": true
   },
   "outputs": [],
   "source": [
    "# there might be a better way to use the underlying index object\n",
    "# http://pandas.pydata.org/pandas-docs/stable/generated/pandas.Index.html\n",
    "# for now, let's just code something that works"
   ]
  },
  {
   "cell_type": "code",
   "execution_count": 44,
   "metadata": {
    "collapsed": false
   },
   "outputs": [
    {
     "data": {
      "text/plain": [
       "2"
      ]
     },
     "execution_count": 44,
     "metadata": {},
     "output_type": "execute_result"
    }
   ],
   "source": []
  },
  {
   "cell_type": "code",
   "execution_count": null,
   "metadata": {
    "collapsed": true
   },
   "outputs": [],
   "source": [
    "delta_x = x_test - f_nearest.x.values\n",
    "delta_x"
   ]
  },
  {
   "cell_type": "code",
   "execution_count": null,
   "metadata": {
    "collapsed": true
   },
   "outputs": [],
   "source": [
    "f_nearest.x.values + delta_x"
   ]
  }
 ],
 "metadata": {
  "kernelspec": {
   "display_name": "Python 3",
   "language": "python",
   "name": "python3"
  },
  "language_info": {
   "codemirror_mode": {
    "name": "ipython",
    "version": 3
   },
   "file_extension": ".py",
   "mimetype": "text/x-python",
   "name": "python",
   "nbconvert_exporter": "python",
   "pygments_lexer": "ipython3",
   "version": "3.5.3"
  }
 },
 "nbformat": 4,
 "nbformat_minor": 0
}
